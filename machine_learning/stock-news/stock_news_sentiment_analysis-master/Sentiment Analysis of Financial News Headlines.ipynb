{
 "cells": [
  {
   "cell_type": "code",
   "execution_count": 8,
   "metadata": {
    "ExecuteTime": {
     "start_time": "2023-10-15T23:32:19.219006Z",
     "end_time": "2023-10-15T23:32:19.253035Z"
    }
   },
   "outputs": [],
   "source": [
    "# Import libraries\n",
    "from urllib.request import urlopen, Request\n",
    "from bs4 import BeautifulSoup\n",
    "import os\n",
    "import pandas as pd\n",
    "import matplotlib.pyplot as plt\n",
    "%matplotlib inline\n",
    "# NLTK VADER for sentiment analysis\n",
    "from nltk.sentiment.vader import SentimentIntensityAnalyzer\n",
    "\n",
    "finwiz_url = 'https://finviz.com/quote.ashx?t='"
   ]
  },
  {
   "cell_type": "code",
   "execution_count": 9,
   "metadata": {
    "ExecuteTime": {
     "start_time": "2023-10-15T23:32:19.234009Z",
     "end_time": "2023-10-15T23:32:20.225967Z"
    }
   },
   "outputs": [],
   "source": [
    "news_tables = {}\n",
    "tickers = ['AMZN', 'TSLA', 'GOOG']\n",
    "\n",
    "for ticker in tickers:\n",
    "    url = finwiz_url + ticker\n",
    "    req = Request(url=url,headers={'User-Agent': 'Mozilla/5.0 (Windows NT 6.1; WOW64; rv:20.0) Gecko/20100101 Firefox/20.0'}) \n",
    "    response = urlopen(req)    \n",
    "    # Read the contents of the file into 'html'\n",
    "    html = BeautifulSoup(response)\n",
    "    # Find 'news-table' in the Soup and load it into 'news_table'\n",
    "    news_table = html.find(id='news-table')\n",
    "    # Add the table to our dictionary\n",
    "    news_tables[ticker] = news_table"
   ]
  },
  {
   "cell_type": "code",
   "execution_count": 10,
   "metadata": {
    "ExecuteTime": {
     "start_time": "2023-10-15T23:32:20.230960Z",
     "end_time": "2023-10-15T23:32:20.240961Z"
    }
   },
   "outputs": [
    {
     "name": "stdout",
     "output_type": "stream",
     "text": [
      "Corrections & Amplifications\n",
      "\r\n",
      "            Today 10:04PM\r\n",
      "        \n",
      "20 Most Productive States in the US\n",
      "\r\n",
      "            06:36PM\r\n",
      "        \n",
      "Tech Earnings Kick Off This Week With Netflix. AI Is Now a Risk.\n",
      "\r\n",
      "            04:23PM\r\n",
      "        \n",
      "Charlie Munger Says AI Is Overhyped. But Berkshire Hathaway's $345 Billion Portfolio Is Packed With (at Least) 8 AI Stocks!\n",
      "\r\n",
      "            03:13PM\r\n",
      "        \n"
     ]
    }
   ],
   "source": [
    "# Read one single day of headlines for 'AMZN' \n",
    "amzn = news_tables['AMZN']\n",
    "# Get all the table rows tagged in HTML with <tr> into 'amzn_tr'\n",
    "amzn_tr = amzn.findAll('tr')\n",
    "\n",
    "for i, table_row in enumerate(amzn_tr):\n",
    "    # Read the text of the element 'a' into 'link_text'\n",
    "    a_text = table_row.a.text\n",
    "    # Read the text of the element 'td' into 'data_text'\n",
    "    td_text = table_row.td.text\n",
    "    # Print the contents of 'link_text' and 'data_text' \n",
    "    print(a_text)\n",
    "    print(td_text)\n",
    "    # Exit after printing 4 rows of data\n",
    "    if i == 3:\n",
    "        break"
   ]
  },
  {
   "cell_type": "code",
   "execution_count": 11,
   "metadata": {
    "ExecuteTime": {
     "start_time": "2023-10-15T23:32:20.244960Z",
     "end_time": "2023-10-15T23:32:20.301958Z"
    }
   },
   "outputs": [],
   "source": [
    "parsed_news = []\n",
    "\n",
    "# Iterate through the news\n",
    "for file_name, news_table in news_tables.items():\n",
    "    # Iterate through all tr tags in 'news_table'\n",
    "    for x in news_table.findAll('tr'):\n",
    "        # Check if 'a' tag exists in the 'tr' element\n",
    "        if x.a is not None:\n",
    "            # read the text from each tr tag into text\n",
    "            text = x.a.get_text()\n",
    "            # splite text in the td tag into a list\n",
    "            date_scrape = x.td.text.split()\n",
    "            # if the length of 'date_scrape' is 1, load 'time' as the only element\n",
    "            if len(date_scrape) == 1:\n",
    "                time = date_scrape[0]\n",
    "            # else load 'date' as the 1st element and 'time' as the second\n",
    "            else:\n",
    "                date = date_scrape[0]\n",
    "                time = date_scrape[1]\n",
    "            # Extract the ticker from the file name, get the string up to the 1st '_'\n",
    "            ticker = file_name.split('_')[0]\n",
    "\n",
    "            # Append ticker, date, time, and headline as a list to the 'parsed_news' list\n",
    "            parsed_news.append([ticker, date, time, text])\n",
    "\n",
    "# Now 'parsed_news' should contain the desired information\n"
   ]
  },
  {
   "cell_type": "code",
   "execution_count": 12,
   "metadata": {
    "ExecuteTime": {
     "start_time": "2023-10-15T23:32:20.277965Z",
     "end_time": "2023-10-15T23:32:20.365573Z"
    }
   },
   "outputs": [
    {
     "name": "stderr",
     "output_type": "stream",
     "text": [
      "C:\\Users\\bonni\\AppData\\Local\\Temp\\ipykernel_2660\\3684584774.py:26: UserWarning: Could not infer format, so each element will be parsed individually, falling back to `dateutil`. To ensure parsing is consistent and as-expected, please specify a format.\n",
      "  parsed_and_scored_news['date'] = pd.to_datetime(parsed_and_scored_news['date'], errors='coerce').dt.date\n"
     ]
    },
    {
     "data": {
      "text/plain": "  ticker date     time                                           headline  \\\n0   AMZN  NaT  10:04PM                       Corrections & Amplifications   \n1   AMZN  NaT  06:36PM                20 Most Productive States in the US   \n2   AMZN  NaT  04:23PM  Tech Earnings Kick Off This Week With Netflix....   \n3   AMZN  NaT  03:13PM  Charlie Munger Says AI Is Overhyped. But Berks...   \n4   AMZN  NaT  11:30AM  Does Amazon's $4 Billion Artificial Intelligen...   \n\n    neg    neu    pos  compound  \n0  0.00  1.000  0.000    0.0000  \n1  0.00  1.000  0.000    0.0000  \n2  0.16  0.840  0.000   -0.2732  \n3  0.00  1.000  0.000    0.0000  \n4  0.00  0.763  0.237    0.4767  ",
      "text/html": "<div>\n<style scoped>\n    .dataframe tbody tr th:only-of-type {\n        vertical-align: middle;\n    }\n\n    .dataframe tbody tr th {\n        vertical-align: top;\n    }\n\n    .dataframe thead th {\n        text-align: right;\n    }\n</style>\n<table border=\"1\" class=\"dataframe\">\n  <thead>\n    <tr style=\"text-align: right;\">\n      <th></th>\n      <th>ticker</th>\n      <th>date</th>\n      <th>time</th>\n      <th>headline</th>\n      <th>neg</th>\n      <th>neu</th>\n      <th>pos</th>\n      <th>compound</th>\n    </tr>\n  </thead>\n  <tbody>\n    <tr>\n      <th>0</th>\n      <td>AMZN</td>\n      <td>NaT</td>\n      <td>10:04PM</td>\n      <td>Corrections &amp; Amplifications</td>\n      <td>0.00</td>\n      <td>1.000</td>\n      <td>0.000</td>\n      <td>0.0000</td>\n    </tr>\n    <tr>\n      <th>1</th>\n      <td>AMZN</td>\n      <td>NaT</td>\n      <td>06:36PM</td>\n      <td>20 Most Productive States in the US</td>\n      <td>0.00</td>\n      <td>1.000</td>\n      <td>0.000</td>\n      <td>0.0000</td>\n    </tr>\n    <tr>\n      <th>2</th>\n      <td>AMZN</td>\n      <td>NaT</td>\n      <td>04:23PM</td>\n      <td>Tech Earnings Kick Off This Week With Netflix....</td>\n      <td>0.16</td>\n      <td>0.840</td>\n      <td>0.000</td>\n      <td>-0.2732</td>\n    </tr>\n    <tr>\n      <th>3</th>\n      <td>AMZN</td>\n      <td>NaT</td>\n      <td>03:13PM</td>\n      <td>Charlie Munger Says AI Is Overhyped. But Berks...</td>\n      <td>0.00</td>\n      <td>1.000</td>\n      <td>0.000</td>\n      <td>0.0000</td>\n    </tr>\n    <tr>\n      <th>4</th>\n      <td>AMZN</td>\n      <td>NaT</td>\n      <td>11:30AM</td>\n      <td>Does Amazon's $4 Billion Artificial Intelligen...</td>\n      <td>0.00</td>\n      <td>0.763</td>\n      <td>0.237</td>\n      <td>0.4767</td>\n    </tr>\n  </tbody>\n</table>\n</div>"
     },
     "execution_count": 12,
     "metadata": {},
     "output_type": "execute_result"
    }
   ],
   "source": [
    "import pandas as pd\n",
    "from nltk.sentiment.vader import SentimentIntensityAnalyzer\n",
    "\n",
    "# Instantiate the sentiment intensity analyzer\n",
    "vader = SentimentIntensityAnalyzer()\n",
    "\n",
    "# Set column names\n",
    "columns = ['ticker', 'date', 'time', 'headline']\n",
    "\n",
    "# Convert the parsed_news list into a DataFrame called 'parsed_and_scored_news'\n",
    "parsed_and_scored_news = pd.DataFrame(parsed_news, columns=columns)\n",
    "\n",
    "# Preprocess the 'date' column to handle non-standard formats\n",
    "parsed_and_scored_news['date'] = parsed_and_scored_news['date'].apply(lambda x: ' '.join(x.split()[1:]) if x.startswith(\"Today\") else x)\n",
    "\n",
    "# Iterate through the headlines and get the polarity scores using vader\n",
    "scores = parsed_and_scored_news['headline'].apply(vader.polarity_scores).tolist()\n",
    "\n",
    "# Convert the 'scores' list of dicts into a DataFrame\n",
    "scores_df = pd.DataFrame(scores)\n",
    "\n",
    "# Join the DataFrames of the news and the list of dicts\n",
    "parsed_and_scored_news = parsed_and_scored_news.join(scores_df, rsuffix='_right')\n",
    "\n",
    "# Convert the date column from string to datetime\n",
    "parsed_and_scored_news['date'] = pd.to_datetime(parsed_and_scored_news['date'], errors='coerce').dt.date\n",
    "\n",
    "parsed_and_scored_news.head()\n"
   ]
  },
  {
   "cell_type": "code",
   "execution_count": 13,
   "metadata": {
    "ExecuteTime": {
     "start_time": "2023-10-15T23:32:20.354574Z",
     "end_time": "2023-10-15T23:32:20.527571Z"
    }
   },
   "outputs": [
    {
     "data": {
      "text/plain": "<Figure size 1000x600 with 1 Axes>",
      "image/png": "[encoded data removed]"
     },
     "metadata": {},
     "output_type": "display_data"
    }
   ],
   "source": [
    "# import pandas as pd\n",
    "import matplotlib.pyplot as plt\n",
    "\n",
    "# Assuming 'time' column contains time strings, convert them to a valid time format\n",
    "parsed_and_scored_news['time'] = pd.to_datetime(parsed_and_scored_news['time'], format='%I:%M%p', errors='coerce').dt.time\n",
    "\n",
    "# Group by date, ticker, and time, and calculate the mean of the 'compound' sentiment score\n",
    "mean_scores = parsed_and_scored_news.groupby(['date', 'ticker', 'time'])['compound'].mean().reset_index()\n",
    "\n",
    "# Use pivot_table to pivot the data, calculating the mean sentiment score for duplicate entries\n",
    "pivot_mean_scores = mean_scores.pivot_table(index='date', columns='ticker', values='compound', aggfunc='mean')\n",
    "\n",
    "# Plot a bar chart with pandas\n",
    "pivot_mean_scores.plot(kind='bar', figsize=(10, 6))\n",
    "plt.grid()\n",
    "plt.show()\n",
    "\n",
    "\n"
   ]
  },
  {
   "cell_type": "code",
   "execution_count": 14,
   "metadata": {
    "ExecuteTime": {
     "start_time": "2023-10-15T23:32:20.537572Z",
     "end_time": "2023-10-15T23:32:32.446250Z"
    }
   },
   "outputs": [
    {
     "name": "stderr",
     "output_type": "stream",
     "text": [
      "Some weights of BertForSequenceClassification were not initialized from the model checkpoint at bert-base-uncased and are newly initialized: ['classifier.bias', 'classifier.weight']\n",
      "You should probably TRAIN this model on a down-stream task to be able to use it for predictions and inference.\n"
     ]
    },
    {
     "name": "stdout",
     "output_type": "stream",
     "text": [
      "Accuracy: 100.00%\n"
     ]
    },
    {
     "data": {
      "text/plain": "<Figure size 1000x600 with 1 Axes>",
      "image/png": "[encoded data removed]"
     },
     "metadata": {},
     "output_type": "display_data"
    }
   ],
   "source": [
    "import pandas as pd\n",
    "# Example installation command (your actual command may vary)\n",
    "#pip install torch torchvision torchaudio -f https://download.pytorch.org/whl/cpu/torch_stable.html  (need to execute the pip)\n",
    "\n",
    "from urllib.request import urlopen, Request\n",
    "from bs4 import BeautifulSoup\n",
    "import os\n",
    "import pandas as pd\n",
    "import matplotlib.pyplot as plt\n",
    "from nltk.sentiment.vader import SentimentIntensityAnalyzer\n",
    "from transformers import BertTokenizer, BertForSequenceClassification, pipeline\n",
    "from sklearn.model_selection import train_test_split\n",
    "from sklearn.metrics import accuracy_score\n",
    "\n",
    "# Set up the URL and tickers\n",
    "finwiz_url = 'https://finviz.com/quote.ashx?t='\n",
    "tickers = ['AMZN', 'TSLA', 'GOOG']\n",
    "\n",
    "# Function to perform sentiment analysis using BERT\n",
    "def perform_sentiment_analysis(headlines):\n",
    "    model_name = 'bert-base-uncased'\n",
    "    tokenizer = BertTokenizer.from_pretrained(model_name)\n",
    "    model = BertForSequenceClassification.from_pretrained(model_name)\n",
    "    sentiment_classifier = pipeline('sentiment-analysis', model=model, tokenizer=tokenizer)\n",
    "\n",
    "    sentiment_scores = []\n",
    "    for headline in headlines:\n",
    "        result = sentiment_classifier(headline)\n",
    "        sentiment_scores.append(result[0])\n",
    "\n",
    "    return sentiment_scores\n",
    "\n",
    "# Dictionary to store news tables\n",
    "news_tables = {}\n",
    "\n",
    "# Loop through tickers and scrape news data\n",
    "for ticker in tickers:\n",
    "    url = finwiz_url + ticker\n",
    "    req = Request(url=url, headers={'User-Agent': 'Mozilla/5.0 (Windows NT 6.1; WOW64; rv:20.0) Gecko/20100101 Firefox/20.0'})\n",
    "    response = urlopen(req)\n",
    "    html = BeautifulSoup(response, features=\"html.parser\")\n",
    "    news_table = html.find(id='news-table')\n",
    "    news_tables[ticker] = news_table\n",
    "\n",
    "# List to store parsed news data\n",
    "parsed_news = []\n",
    "\n",
    "# Loop through news tables and parse data\n",
    "for ticker, news_table in news_tables.items():\n",
    "    for x in news_table.findAll('tr'):\n",
    "        if x.a is not None:\n",
    "            text = x.a.get_text()\n",
    "            date_scrape = x.td.text.split()\n",
    "            if len(date_scrape) == 1:\n",
    "                time = date_scrape[0]\n",
    "            else:\n",
    "                date = date_scrape[0]\n",
    "                time = date_scrape[1]\n",
    "            ticker = ticker\n",
    "            parsed_news.append([ticker, date, time, text])\n",
    "\n",
    "# Create a DataFrame from parsed news\n",
    "columns = ['ticker', 'date', 'time', 'headline']\n",
    "parsed_and_scored_news = pd.DataFrame(parsed_news, columns=columns)\n",
    "\n",
    "# Preprocess the 'date' column\n",
    "parsed_and_scored_news['date'] = parsed_and_scored_news['date'].apply(lambda x: ' '.join(x.split()[1:]) if x.startswith(\"Today\") else x)\n",
    "\n",
    "# Perform sentiment analysis using BERT\n",
    "test_sentiment_scores = perform_sentiment_analysis(parsed_and_scored_news['headline'])\n",
    "\n",
    "# Extract compound sentiment scores from the BERT results\n",
    "parsed_and_scored_news['predicted_sentiment'] = [score['score'] for score in test_sentiment_scores]\n",
    "\n",
    "# Define a threshold for sentiment (e.g., 0.0 for neutral sentiment)\n",
    "threshold = 0.0\n",
    "\n",
    "# Convert compound sentiment scores to binary labels (positive, neutral, negative)\n",
    "parsed_and_scored_news['predicted_sentiment_label'] = ['positive' if score > threshold else 'negative' if score < -threshold else 'neutral' for score in parsed_and_scored_news['predicted_sentiment']]\n",
    "\n",
    "# Split the data into training and testing sets\n",
    "train_data, test_data = train_test_split(parsed_and_scored_news, test_size=0.2, random_state=42)\n",
    "\n",
    "# Calculate the accuracy\n",
    "accuracy = accuracy_score(test_data['predicted_sentiment_label'], test_data['predicted_sentiment_label'])\n",
    "\n",
    "# Print the accuracy\n",
    "print(f\"Accuracy: {accuracy * 100:.2f}%\")\n",
    "\n",
    "# Plot the accuracy over time\n",
    "accuracy_over_time = test_data.groupby('date')['predicted_sentiment_label'].apply(lambda x: accuracy_score(x, x)).reset_index(name='accuracy')\n",
    "plt.figure(figsize=(10, 6))\n",
    "plt.plot(accuracy_over_time['date'], accuracy_over_time['accuracy'])\n",
    "plt.title('Accuracy of Sentiment Analysis Over Time')\n",
    "plt.xlabel('Date')\n",
    "plt.ylabel('Accuracy')\n",
    "plt.grid()\n",
    "plt.show()\n"
   ]
  }
 ],
 "metadata": {
  "kernelspec": {
   "display_name": "Python 3",
   "language": "python",
   "name": "python3"
  },
  "language_info": {
   "codemirror_mode": {
    "name": "ipython",
    "version": 3
   },
   "file_extension": ".py",
   "mimetype": "text/x-python",
   "name": "python",
   "nbconvert_exporter": "python",
   "pygments_lexer": "ipython3",
   "version": "3.7.6"
  }
 },
 "nbformat": 4,
 "nbformat_minor": 4
}
