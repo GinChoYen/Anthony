{
 "nbformat": 4,
 "nbformat_minor": 0,
 "metadata": {
  "colab": {
   "name": "janta hack bert .ipynb",
   "provenance": [],
   "collapsed_sections": [],
   "include_colab_link": true
  },
  "kernelspec": {
   "name": "python3",
   "display_name": "Python 3",
   "language": "python"
  },
  "widgets": {
   "application/vnd.jupyter.widget-state+json": {
    "3a4f591895314d8080cbc27263e99b3a": {
     "model_module": "@jupyter-widgets/controls",
     "model_name": "HBoxModel",
     "state": {
      "_view_name": "HBoxView",
      "_dom_classes": [],
      "_model_name": "HBoxModel",
      "_view_module": "@jupyter-widgets/controls",
      "_model_module_version": "1.5.0",
      "_view_count": null,
      "_view_module_version": "1.5.0",
      "box_style": "",
      "layout": "IPY_MODEL_268dfb3419b24acb875fa9d0a4fe3753",
      "_model_module": "@jupyter-widgets/controls",
      "children": [
       "IPY_MODEL_89e35d6c5c2e438ba3a3bcc2e5daa547",
       "IPY_MODEL_589eed5d14434034a5f41ddd23bc236d"
      ]
     }
    },
    "268dfb3419b24acb875fa9d0a4fe3753": {
     "model_module": "@jupyter-widgets/base",
     "model_name": "LayoutModel",
     "state": {
      "_view_name": "LayoutView",
      "grid_template_rows": null,
      "right": null,
      "justify_content": null,
      "_view_module": "@jupyter-widgets/base",
      "overflow": null,
      "_model_module_version": "1.2.0",
      "_view_count": null,
      "flex_flow": null,
      "width": null,
      "min_width": null,
      "border": null,
      "align_items": null,
      "bottom": null,
      "_model_module": "@jupyter-widgets/base",
      "top": null,
      "grid_column": null,
      "overflow_y": null,
      "overflow_x": null,
      "grid_auto_flow": null,
      "grid_area": null,
      "grid_template_columns": null,
      "flex": null,
      "_model_name": "LayoutModel",
      "justify_items": null,
      "grid_row": null,
      "max_height": null,
      "align_content": null,
      "visibility": null,
      "align_self": null,
      "height": null,
      "min_height": null,
      "padding": null,
      "grid_auto_rows": null,
      "grid_gap": null,
      "max_width": null,
      "order": null,
      "_view_module_version": "1.2.0",
      "grid_template_areas": null,
      "object_position": null,
      "object_fit": null,
      "grid_auto_columns": null,
      "margin": null,
      "display": null,
      "left": null
     }
    },
    "89e35d6c5c2e438ba3a3bcc2e5daa547": {
     "model_module": "@jupyter-widgets/controls",
     "model_name": "FloatProgressModel",
     "state": {
      "_view_name": "ProgressView",
      "style": "IPY_MODEL_7ccda4e26a624457bcf74770602516fc",
      "_dom_classes": [],
      "description": "Downloading: 100%",
      "_model_name": "FloatProgressModel",
      "bar_style": "success",
      "max": 433,
      "_view_module": "@jupyter-widgets/controls",
      "_model_module_version": "1.5.0",
      "value": 433,
      "_view_count": null,
      "_view_module_version": "1.5.0",
      "orientation": "horizontal",
      "min": 0,
      "description_tooltip": null,
      "_model_module": "@jupyter-widgets/controls",
      "layout": "IPY_MODEL_05749ab77053486c9affb0ed1e9ed4c6"
     }
    },
    "589eed5d14434034a5f41ddd23bc236d": {
     "model_module": "@jupyter-widgets/controls",
     "model_name": "HTMLModel",
     "state": {
      "_view_name": "HTMLView",
      "style": "IPY_MODEL_4fc5a2681525401d8e75b6a4d6c1f5b4",
      "_dom_classes": [],
      "description": "",
      "_model_name": "HTMLModel",
      "placeholder": "​",
      "_view_module": "@jupyter-widgets/controls",
      "_model_module_version": "1.5.0",
      "value": " 433/433 [00:25&lt;00:00, 17.0B/s]",
      "_view_count": null,
      "_view_module_version": "1.5.0",
      "description_tooltip": null,
      "_model_module": "@jupyter-widgets/controls",
      "layout": "IPY_MODEL_7e0918b768cf476fa84851839802e74c"
     }
    },
    "7ccda4e26a624457bcf74770602516fc": {
     "model_module": "@jupyter-widgets/controls",
     "model_name": "ProgressStyleModel",
     "state": {
      "_view_name": "StyleView",
      "_model_name": "ProgressStyleModel",
      "description_width": "initial",
      "_view_module": "@jupyter-widgets/base",
      "_model_module_version": "1.5.0",
      "_view_count": null,
      "_view_module_version": "1.2.0",
      "bar_color": null,
      "_model_module": "@jupyter-widgets/controls"
     }
    },
    "05749ab77053486c9affb0ed1e9ed4c6": {
     "model_module": "@jupyter-widgets/base",
     "model_name": "LayoutModel",
     "state": {
      "_view_name": "LayoutView",
      "grid_template_rows": null,
      "right": null,
      "justify_content": null,
      "_view_module": "@jupyter-widgets/base",
      "overflow": null,
      "_model_module_version": "1.2.0",
      "_view_count": null,
      "flex_flow": null,
      "width": null,
      "min_width": null,
      "border": null,
      "align_items": null,
      "bottom": null,
      "_model_module": "@jupyter-widgets/base",
      "top": null,
      "grid_column": null,
      "overflow_y": null,
      "overflow_x": null,
      "grid_auto_flow": null,
      "grid_area": null,
      "grid_template_columns": null,
      "flex": null,
      "_model_name": "LayoutModel",
      "justify_items": null,
      "grid_row": null,
      "max_height": null,
      "align_content": null,
      "visibility": null,
      "align_self": null,
      "height": null,
      "min_height": null,
      "padding": null,
      "grid_auto_rows": null,
      "grid_gap": null,
      "max_width": null,
      "order": null,
      "_view_module_version": "1.2.0",
      "grid_template_areas": null,
      "object_position": null,
      "object_fit": null,
      "grid_auto_columns": null,
      "margin": null,
      "display": null,
      "left": null
     }
    },
    "4fc5a2681525401d8e75b6a4d6c1f5b4": {
     "model_module": "@jupyter-widgets/controls",
     "model_name": "DescriptionStyleModel",
     "state": {
      "_view_name": "StyleView",
      "_model_name": "DescriptionStyleModel",
      "description_width": "",
      "_view_module": "@jupyter-widgets/base",
      "_model_module_version": "1.5.0",
      "_view_count": null,
      "_view_module_version": "1.2.0",
      "_model_module": "@jupyter-widgets/controls"
     }
    },
    "7e0918b768cf476fa84851839802e74c": {
     "model_module": "@jupyter-widgets/base",
     "model_name": "LayoutModel",
     "state": {
      "_view_name": "LayoutView",
      "grid_template_rows": null,
      "right": null,
      "justify_content": null,
      "_view_module": "@jupyter-widgets/base",
      "overflow": null,
      "_model_module_version": "1.2.0",
      "_view_count": null,
      "flex_flow": null,
      "width": null,
      "min_width": null,
      "border": null,
      "align_items": null,
      "bottom": null,
      "_model_module": "@jupyter-widgets/base",
      "top": null,
      "grid_column": null,
      "overflow_y": null,
      "overflow_x": null,
      "grid_auto_flow": null,
      "grid_area": null,
      "grid_template_columns": null,
      "flex": null,
      "_model_name": "LayoutModel",
      "justify_items": null,
      "grid_row": null,
      "max_height": null,
      "align_content": null,
      "visibility": null,
      "align_self": null,
      "height": null,
      "min_height": null,
      "padding": null,
      "grid_auto_rows": null,
      "grid_gap": null,
      "max_width": null,
      "order": null,
      "_view_module_version": "1.2.0",
      "grid_template_areas": null,
      "object_position": null,
      "object_fit": null,
      "grid_auto_columns": null,
      "margin": null,
      "display": null,
      "left": null
     }
    },
    "41ebdd850e2e4118bde7d61d196d7508": {
     "model_module": "@jupyter-widgets/controls",
     "model_name": "HBoxModel",
     "state": {
      "_view_name": "HBoxView",
      "_dom_classes": [],
      "_model_name": "HBoxModel",
      "_view_module": "@jupyter-widgets/controls",
      "_model_module_version": "1.5.0",
      "_view_count": null,
      "_view_module_version": "1.5.0",
      "box_style": "",
      "layout": "IPY_MODEL_6034c22cfbfa4af3b66b8b582ad7f510",
      "_model_module": "@jupyter-widgets/controls",
      "children": [
       "IPY_MODEL_4cfbd3ed6b40404784464952dde03d1f",
       "IPY_MODEL_149dab03f88d46c69fcb3aef2e3f7bde"
      ]
     }
    },
    "6034c22cfbfa4af3b66b8b582ad7f510": {
     "model_module": "@jupyter-widgets/base",
     "model_name": "LayoutModel",
     "state": {
      "_view_name": "LayoutView",
      "grid_template_rows": null,
      "right": null,
      "justify_content": null,
      "_view_module": "@jupyter-widgets/base",
      "overflow": null,
      "_model_module_version": "1.2.0",
      "_view_count": null,
      "flex_flow": null,
      "width": null,
      "min_width": null,
      "border": null,
      "align_items": null,
      "bottom": null,
      "_model_module": "@jupyter-widgets/base",
      "top": null,
      "grid_column": null,
      "overflow_y": null,
      "overflow_x": null,
      "grid_auto_flow": null,
      "grid_area": null,
      "grid_template_columns": null,
      "flex": null,
      "_model_name": "LayoutModel",
      "justify_items": null,
      "grid_row": null,
      "max_height": null,
      "align_content": null,
      "visibility": null,
      "align_self": null,
      "height": null,
      "min_height": null,
      "padding": null,
      "grid_auto_rows": null,
      "grid_gap": null,
      "max_width": null,
      "order": null,
      "_view_module_version": "1.2.0",
      "grid_template_areas": null,
      "object_position": null,
      "object_fit": null,
      "grid_auto_columns": null,
      "margin": null,
      "display": null,
      "left": null
     }
    },
    "4cfbd3ed6b40404784464952dde03d1f": {
     "model_module": "@jupyter-widgets/controls",
     "model_name": "FloatProgressModel",
     "state": {
      "_view_name": "ProgressView",
      "style": "IPY_MODEL_3796ead814a7462d9e9f8ee1ee4bafb7",
      "_dom_classes": [],
      "description": "Downloading: 100%",
      "_model_name": "FloatProgressModel",
      "bar_style": "success",
      "max": 440473133,
      "_view_module": "@jupyter-widgets/controls",
      "_model_module_version": "1.5.0",
      "value": 440473133,
      "_view_count": null,
      "_view_module_version": "1.5.0",
      "orientation": "horizontal",
      "min": 0,
      "description_tooltip": null,
      "_model_module": "@jupyter-widgets/controls",
      "layout": "IPY_MODEL_22f537d057b6410b8b44c18e4ae761c8"
     }
    },
    "149dab03f88d46c69fcb3aef2e3f7bde": {
     "model_module": "@jupyter-widgets/controls",
     "model_name": "HTMLModel",
     "state": {
      "_view_name": "HTMLView",
      "style": "IPY_MODEL_28f20737806a4dacaa9c490cb11f04ee",
      "_dom_classes": [],
      "description": "",
      "_model_name": "HTMLModel",
      "placeholder": "​",
      "_view_module": "@jupyter-widgets/controls",
      "_model_module_version": "1.5.0",
      "value": " 440M/440M [00:24&lt;00:00, 18.0MB/s]",
      "_view_count": null,
      "_view_module_version": "1.5.0",
      "description_tooltip": null,
      "_model_module": "@jupyter-widgets/controls",
      "layout": "IPY_MODEL_6ea18c8fd3fc43b787d2a425b472b008"
     }
    },
    "3796ead814a7462d9e9f8ee1ee4bafb7": {
     "model_module": "@jupyter-widgets/controls",
     "model_name": "ProgressStyleModel",
     "state": {
      "_view_name": "StyleView",
      "_model_name": "ProgressStyleModel",
      "description_width": "initial",
      "_view_module": "@jupyter-widgets/base",
      "_model_module_version": "1.5.0",
      "_view_count": null,
      "_view_module_version": "1.2.0",
      "bar_color": null,
      "_model_module": "@jupyter-widgets/controls"
     }
    },
    "22f537d057b6410b8b44c18e4ae761c8": {
     "model_module": "@jupyter-widgets/base",
     "model_name": "LayoutModel",
     "state": {
      "_view_name": "LayoutView",
      "grid_template_rows": null,
      "right": null,
      "justify_content": null,
      "_view_module": "@jupyter-widgets/base",
      "overflow": null,
      "_model_module_version": "1.2.0",
      "_view_count": null,
      "flex_flow": null,
      "width": null,
      "min_width": null,
      "border": null,
      "align_items": null,
      "bottom": null,
      "_model_module": "@jupyter-widgets/base",
      "top": null,
      "grid_column": null,
      "overflow_y": null,
      "overflow_x": null,
      "grid_auto_flow": null,
      "grid_area": null,
      "grid_template_columns": null,
      "flex": null,
      "_model_name": "LayoutModel",
      "justify_items": null,
      "grid_row": null,
      "max_height": null,
      "align_content": null,
      "visibility": null,
      "align_self": null,
      "height": null,
      "min_height": null,
      "padding": null,
      "grid_auto_rows": null,
      "grid_gap": null,
      "max_width": null,
      "order": null,
      "_view_module_version": "1.2.0",
      "grid_template_areas": null,
      "object_position": null,
      "object_fit": null,
      "grid_auto_columns": null,
      "margin": null,
      "display": null,
      "left": null
     }
    },
    "28f20737806a4dacaa9c490cb11f04ee": {
     "model_module": "@jupyter-widgets/controls",
     "model_name": "DescriptionStyleModel",
     "state": {
      "_view_name": "StyleView",
      "_model_name": "DescriptionStyleModel",
      "description_width": "",
      "_view_module": "@jupyter-widgets/base",
      "_model_module_version": "1.5.0",
      "_view_count": null,
      "_view_module_version": "1.2.0",
      "_model_module": "@jupyter-widgets/controls"
     }
    },
    "6ea18c8fd3fc43b787d2a425b472b008": {
     "model_module": "@jupyter-widgets/base",
     "model_name": "LayoutModel",
     "state": {
      "_view_name": "LayoutView",
      "grid_template_rows": null,
      "right": null,
      "justify_content": null,
      "_view_module": "@jupyter-widgets/base",
      "overflow": null,
      "_model_module_version": "1.2.0",
      "_view_count": null,
      "flex_flow": null,
      "width": null,
      "min_width": null,
      "border": null,
      "align_items": null,
      "bottom": null,
      "_model_module": "@jupyter-widgets/base",
      "top": null,
      "grid_column": null,
      "overflow_y": null,
      "overflow_x": null,
      "grid_auto_flow": null,
      "grid_area": null,
      "grid_template_columns": null,
      "flex": null,
      "_model_name": "LayoutModel",
      "justify_items": null,
      "grid_row": null,
      "max_height": null,
      "align_content": null,
      "visibility": null,
      "align_self": null,
      "height": null,
      "min_height": null,
      "padding": null,
      "grid_auto_rows": null,
      "grid_gap": null,
      "max_width": null,
      "order": null,
      "_view_module_version": "1.2.0",
      "grid_template_areas": null,
      "object_position": null,
      "object_fit": null,
      "grid_auto_columns": null,
      "margin": null,
      "display": null,
      "left": null
     }
    },
    "5aacb6d14f904d70911c5da92ece22e1": {
     "model_module": "@jupyter-widgets/controls",
     "model_name": "HBoxModel",
     "state": {
      "_view_name": "HBoxView",
      "_dom_classes": [],
      "_model_name": "HBoxModel",
      "_view_module": "@jupyter-widgets/controls",
      "_model_module_version": "1.5.0",
      "_view_count": null,
      "_view_module_version": "1.5.0",
      "box_style": "",
      "layout": "IPY_MODEL_e32c3163adfa41e0a98799fb2f9cd6b3",
      "_model_module": "@jupyter-widgets/controls",
      "children": [
       "IPY_MODEL_4531fb6fe648452db635431240edf640",
       "IPY_MODEL_a424928e6bc04c46b58c0da45b5ee1c8"
      ]
     }
    },
    "e32c3163adfa41e0a98799fb2f9cd6b3": {
     "model_module": "@jupyter-widgets/base",
     "model_name": "LayoutModel",
     "state": {
      "_view_name": "LayoutView",
      "grid_template_rows": null,
      "right": null,
      "justify_content": null,
      "_view_module": "@jupyter-widgets/base",
      "overflow": null,
      "_model_module_version": "1.2.0",
      "_view_count": null,
      "flex_flow": null,
      "width": null,
      "min_width": null,
      "border": null,
      "align_items": null,
      "bottom": null,
      "_model_module": "@jupyter-widgets/base",
      "top": null,
      "grid_column": null,
      "overflow_y": null,
      "overflow_x": null,
      "grid_auto_flow": null,
      "grid_area": null,
      "grid_template_columns": null,
      "flex": null,
      "_model_name": "LayoutModel",
      "justify_items": null,
      "grid_row": null,
      "max_height": null,
      "align_content": null,
      "visibility": null,
      "align_self": null,
      "height": null,
      "min_height": null,
      "padding": null,
      "grid_auto_rows": null,
      "grid_gap": null,
      "max_width": null,
      "order": null,
      "_view_module_version": "1.2.0",
      "grid_template_areas": null,
      "object_position": null,
      "object_fit": null,
      "grid_auto_columns": null,
      "margin": null,
      "display": null,
      "left": null
     }
    },
    "4531fb6fe648452db635431240edf640": {
     "model_module": "@jupyter-widgets/controls",
     "model_name": "FloatProgressModel",
     "state": {
      "_view_name": "ProgressView",
      "style": "IPY_MODEL_839f9de0b3e54c3297e785a68137b589",
      "_dom_classes": [],
      "description": "Downloading: 100%",
      "_model_name": "FloatProgressModel",
      "bar_style": "success",
      "max": 231508,
      "_view_module": "@jupyter-widgets/controls",
      "_model_module_version": "1.5.0",
      "value": 231508,
      "_view_count": null,
      "_view_module_version": "1.5.0",
      "orientation": "horizontal",
      "min": 0,
      "description_tooltip": null,
      "_model_module": "@jupyter-widgets/controls",
      "layout": "IPY_MODEL_1d67b1084c6f4f62845222c4d6a72017"
     }
    },
    "a424928e6bc04c46b58c0da45b5ee1c8": {
     "model_module": "@jupyter-widgets/controls",
     "model_name": "HTMLModel",
     "state": {
      "_view_name": "HTMLView",
      "style": "IPY_MODEL_fb20a1d6099b46fdbdd722d0fa383a6d",
      "_dom_classes": [],
      "description": "",
      "_model_name": "HTMLModel",
      "placeholder": "​",
      "_view_module": "@jupyter-widgets/controls",
      "_model_module_version": "1.5.0",
      "value": " 232k/232k [00:02&lt;00:00, 90.8kB/s]",
      "_view_count": null,
      "_view_module_version": "1.5.0",
      "description_tooltip": null,
      "_model_module": "@jupyter-widgets/controls",
      "layout": "IPY_MODEL_f883e8ea8425446e831b1857b305e43e"
     }
    },
    "839f9de0b3e54c3297e785a68137b589": {
     "model_module": "@jupyter-widgets/controls",
     "model_name": "ProgressStyleModel",
     "state": {
      "_view_name": "StyleView",
      "_model_name": "ProgressStyleModel",
      "description_width": "initial",
      "_view_module": "@jupyter-widgets/base",
      "_model_module_version": "1.5.0",
      "_view_count": null,
      "_view_module_version": "1.2.0",
      "bar_color": null,
      "_model_module": "@jupyter-widgets/controls"
     }
    },
    "1d67b1084c6f4f62845222c4d6a72017": {
     "model_module": "@jupyter-widgets/base",
     "model_name": "LayoutModel",
     "state": {
      "_view_name": "LayoutView",
      "grid_template_rows": null,
      "right": null,
      "justify_content": null,
      "_view_module": "@jupyter-widgets/base",
      "overflow": null,
      "_model_module_version": "1.2.0",
      "_view_count": null,
      "flex_flow": null,
      "width": null,
      "min_width": null,
      "border": null,
      "align_items": null,
      "bottom": null,
      "_model_module": "@jupyter-widgets/base",
      "top": null,
      "grid_column": null,
      "overflow_y": null,
      "overflow_x": null,
      "grid_auto_flow": null,
      "grid_area": null,
      "grid_template_columns": null,
      "flex": null,
      "_model_name": "LayoutModel",
      "justify_items": null,
      "grid_row": null,
      "max_height": null,
      "align_content": null,
      "visibility": null,
      "align_self": null,
      "height": null,
      "min_height": null,
      "padding": null,
      "grid_auto_rows": null,
      "grid_gap": null,
      "max_width": null,
      "order": null,
      "_view_module_version": "1.2.0",
      "grid_template_areas": null,
      "object_position": null,
      "object_fit": null,
      "grid_auto_columns": null,
      "margin": null,
      "display": null,
      "left": null
     }
    },
    "fb20a1d6099b46fdbdd722d0fa383a6d": {
     "model_module": "@jupyter-widgets/controls",
     "model_name": "DescriptionStyleModel",
     "state": {
      "_view_name": "StyleView",
      "_model_name": "DescriptionStyleModel",
      "description_width": "",
      "_view_module": "@jupyter-widgets/base",
      "_model_module_version": "1.5.0",
      "_view_count": null,
      "_view_module_version": "1.2.0",
      "_model_module": "@jupyter-widgets/controls"
     }
    },
    "f883e8ea8425446e831b1857b305e43e": {
     "model_module": "@jupyter-widgets/base",
     "model_name": "LayoutModel",
     "state": {
      "_view_name": "LayoutView",
      "grid_template_rows": null,
      "right": null,
      "justify_content": null,
      "_view_module": "@jupyter-widgets/base",
      "overflow": null,
      "_model_module_version": "1.2.0",
      "_view_count": null,
      "flex_flow": null,
      "width": null,
      "min_width": null,
      "border": null,
      "align_items": null,
      "bottom": null,
      "_model_module": "@jupyter-widgets/base",
      "top": null,
      "grid_column": null,
      "overflow_y": null,
      "overflow_x": null,
      "grid_auto_flow": null,
      "grid_area": null,
      "grid_template_columns": null,
      "flex": null,
      "_model_name": "LayoutModel",
      "justify_items": null,
      "grid_row": null,
      "max_height": null,
      "align_content": null,
      "visibility": null,
      "align_self": null,
      "height": null,
      "min_height": null,
      "padding": null,
      "grid_auto_rows": null,
      "grid_gap": null,
      "max_width": null,
      "order": null,
      "_view_module_version": "1.2.0",
      "grid_template_areas": null,
      "object_position": null,
      "object_fit": null,
      "grid_auto_columns": null,
      "margin": null,
      "display": null,
      "left": null
     }
    }
   }
  }
 },
 "cells": [
  {
   "cell_type": "markdown",
   "metadata": {
    "id": "view-in-github",
    "colab_type": "text"
   },
   "source": [
    "<a href=\"https://colab.research.google.com/github/cnarte/Bert-notebooks/blob/master/Bert%20Immplementation%20using%20colab/jupyter.ipynb\" target=\"_parent\"><img src=\"https://colab.research.google.com/assets/colab-badge.svg\" alt=\"Open In Colab\"/></a>"
   ]
  },
  {
   "cell_type": "markdown",
   "metadata": {
    "id": "yUSxWysQrikd",
    "colab_type": "text"
   },
   "source": [
    "#Bert Immplementation using colab/jupyter using Pytorch\n",
    "<p>For the explanation of how to use bert, we will make a binary classifier of given data I have selected a dataset from a real-world competition on jantahack, that has abstracts of research papers and we predict if it is of computer science field(my field :). Data set is uploaded in repo."
   ]
  },
  {
   "cell_type": "markdown",
   "metadata": {
    "id": "OFOTiqrtNvyy",
    "colab_type": "text"
   },
   "source": [
    "# Install Transformers Library"
   ]
  },
  {
   "cell_type": "code",
   "metadata": {
    "id": "1hkhc10wNrGt",
    "colab_type": "code",
    "colab": {
     "base_uri": "https://localhost:8080/",
     "height": 354
    },
    "outputId": "ffdebf0a-0605-4689-eab5-c2378ad9a9cb",
    "ExecuteTime": {
     "end_time": "2024-07-10T02:48:15.027297Z",
     "start_time": "2024-07-10T02:48:13.848610Z"
    }
   },
   "source": [
    "!pip install transformers"
   ],
   "outputs": [
    {
     "name": "stdout",
     "output_type": "stream",
     "text": [
      "Requirement already satisfied: transformers in c:\\2024\\bert_immplementation_jupyter\\.venv\\lib\\site-packages (4.42.3)\n",
      "Requirement already satisfied: filelock in c:\\2024\\bert_immplementation_jupyter\\.venv\\lib\\site-packages (from transformers) (3.15.4)\n",
      "Requirement already satisfied: huggingface-hub<1.0,>=0.23.2 in c:\\2024\\bert_immplementation_jupyter\\.venv\\lib\\site-packages (from transformers) (0.23.4)\n",
      "Requirement already satisfied: numpy<2.0,>=1.17 in c:\\2024\\bert_immplementation_jupyter\\.venv\\lib\\site-packages (from transformers) (1.26.4)\n",
      "Requirement already satisfied: packaging>=20.0 in c:\\2024\\bert_immplementation_jupyter\\.venv\\lib\\site-packages (from transformers) (24.1)\n",
      "Requirement already satisfied: pyyaml>=5.1 in c:\\2024\\bert_immplementation_jupyter\\.venv\\lib\\site-packages (from transformers) (6.0.1)\n",
      "Requirement already satisfied: regex!=2019.12.17 in c:\\2024\\bert_immplementation_jupyter\\.venv\\lib\\site-packages (from transformers) (2024.5.15)\n",
      "Requirement already satisfied: requests in c:\\2024\\bert_immplementation_jupyter\\.venv\\lib\\site-packages (from transformers) (2.32.3)\n",
      "Requirement already satisfied: safetensors>=0.4.1 in c:\\2024\\bert_immplementation_jupyter\\.venv\\lib\\site-packages (from transformers) (0.4.3)\n",
      "Requirement already satisfied: tokenizers<0.20,>=0.19 in c:\\2024\\bert_immplementation_jupyter\\.venv\\lib\\site-packages (from transformers) (0.19.1)\n",
      "Requirement already satisfied: tqdm>=4.27 in c:\\2024\\bert_immplementation_jupyter\\.venv\\lib\\site-packages (from transformers) (4.66.4)\n",
      "Requirement already satisfied: fsspec>=2023.5.0 in c:\\2024\\bert_immplementation_jupyter\\.venv\\lib\\site-packages (from huggingface-hub<1.0,>=0.23.2->transformers) (2024.6.1)\n",
      "Requirement already satisfied: typing-extensions>=3.7.4.3 in c:\\2024\\bert_immplementation_jupyter\\.venv\\lib\\site-packages (from huggingface-hub<1.0,>=0.23.2->transformers) (4.12.2)\n",
      "Requirement already satisfied: colorama in c:\\2024\\bert_immplementation_jupyter\\.venv\\lib\\site-packages (from tqdm>=4.27->transformers) (0.4.6)\n",
      "Requirement already satisfied: charset-normalizer<4,>=2 in c:\\2024\\bert_immplementation_jupyter\\.venv\\lib\\site-packages (from requests->transformers) (3.3.2)\n",
      "Requirement already satisfied: idna<4,>=2.5 in c:\\2024\\bert_immplementation_jupyter\\.venv\\lib\\site-packages (from requests->transformers) (3.7)\n",
      "Requirement already satisfied: urllib3<3,>=1.21.1 in c:\\2024\\bert_immplementation_jupyter\\.venv\\lib\\site-packages (from requests->transformers) (2.2.2)\n",
      "Requirement already satisfied: certifi>=2017.4.17 in c:\\2024\\bert_immplementation_jupyter\\.venv\\lib\\site-packages (from requests->transformers) (2024.7.4)\n"
     ]
    }
   ],
   "execution_count": 165
  },
  {
   "cell_type": "code",
   "metadata": {
    "id": "x4giRzM7NtHJ",
    "colab_type": "code",
    "colab": {},
    "ExecuteTime": {
     "end_time": "2024-07-10T02:48:15.042921Z",
     "start_time": "2024-07-10T02:48:15.027297Z"
    }
   },
   "source": [
    "import numpy as np\n",
    "import pandas as pd\n",
    "import torch\n",
    "import torch.nn as nn\n",
    "from sklearn.model_selection import train_test_split\n",
    "from sklearn.metrics import classification_report\n",
    "import transformers\n",
    "from transformers import AutoModel, BertTokenizerFast\n",
    "\n",
    "# specify gpu/cpu as per your choice ((Check out readme for installing cuda for supported devices))\n",
    "device = torch.device(\"cpu\")"
   ],
   "outputs": [],
   "execution_count": 166
  },
  {
   "cell_type": "markdown",
   "metadata": {
    "id": "kKd-Tj3hOMsZ",
    "colab_type": "text"
   },
   "source": [
    "# Load Dataset and morph Data.\n",
    "<P>The data we have imported is actually of multilabel form, but we are going to predict only one label to keep it simple.\n"
   ]
  },
  {
   "cell_type": "code",
   "metadata": {
    "id": "cwJrQFQgN_BE",
    "colab_type": "code",
    "colab": {},
    "ExecuteTime": {
     "end_time": "2024-07-10T02:48:15.299130Z",
     "start_time": "2024-07-10T02:48:15.042921Z"
    }
   },
   "source": [
    "df = pd.read_csv(\"train.csv\")\n",
    "#droping unwanted labels and id\n",
    "df=df.drop(columns={'ID','Physics','Mathematics','Statistics','Quantitative Biology','Quantitative Finance'},axis=1)\n"
   ],
   "outputs": [],
   "execution_count": 167
  },
  {
   "cell_type": "code",
   "metadata": {
    "id": "xLB3SUsTEvuI",
    "colab_type": "code",
    "colab": {
     "base_uri": "https://localhost:8080/",
     "height": 251
    },
    "outputId": "658eb07d-ba28-4d7c-bb25-3fd91c9c5953",
    "ExecuteTime": {
     "end_time": "2024-07-10T02:48:15.314786Z",
     "start_time": "2024-07-10T02:48:15.299130Z"
    }
   },
   "source": [
    "df.describe"
   ],
   "outputs": [
    {
     "data": {
      "text/plain": [
       "<bound method NDFrame.describe of                                                    TITLE  \\\n",
       "0            Reconstructing Subject-Specific Effect Maps   \n",
       "1                     Rotation Invariance Neural Network   \n",
       "2      Spherical polyharmonics and Poisson kernels fo...   \n",
       "3      A finite element approximation for the stochas...   \n",
       "4      Comparative study of Discrete Wavelet Transfor...   \n",
       "...                                                  ...   \n",
       "20967  Contemporary machine learning: a guide for pra...   \n",
       "20968  Uniform diamond coatings on WC-Co hard alloy c...   \n",
       "20969  Analysing Soccer Games with Clustering and Con...   \n",
       "20970  On the Efficient Simulation of the Left-Tail o...   \n",
       "20971   Why optional stopping is a problem for Bayesians   \n",
       "\n",
       "                                                ABSTRACT  Computer Science  \n",
       "0        Predictive models allow subject-specific inf...                 1  \n",
       "1        Rotation invariance and translation invarian...                 1  \n",
       "2        We introduce and develop the notion of spher...                 0  \n",
       "3        The stochastic Landau--Lifshitz--Gilbert (LL...                 0  \n",
       "4        Fourier-transform infra-red (FTIR) spectra o...                 1  \n",
       "...                                                  ...               ...  \n",
       "20967    Machine learning is finding increasingly bro...                 1  \n",
       "20968    Polycrystalline diamond coatings have been g...                 0  \n",
       "20969    We present a new approach for identifying si...                 1  \n",
       "20970    The sum of Log-normal variates is encountere...                 0  \n",
       "20971    Recently, optional stopping has been a subje...                 0  \n",
       "\n",
       "[20972 rows x 3 columns]>"
      ]
     },
     "execution_count": 168,
     "metadata": {},
     "output_type": "execute_result"
    }
   ],
   "execution_count": 168
  },
  {
   "cell_type": "markdown",
   "metadata": {
    "id": "qc0pfITI9gLi",
    "colab_type": "text"
   },
   "source": [
    "#Now we drop a few indices for faster training :)\n"
   ]
  },
  {
   "cell_type": "code",
   "metadata": {
    "id": "fzPPOrVQWiW5",
    "colab_type": "code",
    "colab": {},
    "ExecuteTime": {
     "end_time": "2024-07-10T02:48:15.330504Z",
     "start_time": "2024-07-10T02:48:15.314786Z"
    }
   },
   "source": [
    "#THis reduced the dataset from 20972 rows to 1000 for faster testing of model\n",
    "remove_n = 19972\n",
    "drop_indices = np.random.choice(df.index, remove_n, replace=False)\n",
    "df = df.drop(drop_indices)"
   ],
   "outputs": [],
   "execution_count": 169
  },
  {
   "cell_type": "code",
   "metadata": {
    "id": "VsvNDAmaiG8b",
    "colab_type": "code",
    "colab": {
     "base_uri": "https://localhost:8080/",
     "height": 251
    },
    "outputId": "6d538c5f-00c3-406a-d61e-00655bce502c",
    "ExecuteTime": {
     "end_time": "2024-07-10T02:48:15.346049Z",
     "start_time": "2024-07-10T02:48:15.330504Z"
    }
   },
   "source": [
    "df.describe"
   ],
   "outputs": [
    {
     "data": {
      "text/plain": [
       "<bound method NDFrame.describe of                                                    TITLE  \\\n",
       "0            Reconstructing Subject-Specific Effect Maps   \n",
       "15     A rank 18 Waring decomposition of $sM_{\\langle...   \n",
       "18     Comparing Covariate Prioritization via Matchin...   \n",
       "29     Density large deviations for multidimensional ...   \n",
       "35     Rate-Distortion Region of a Gray-Wyner Model w...   \n",
       "...                                                  ...   \n",
       "20904  Robust Photometric Stereo Using Learned Image ...   \n",
       "20909  Elliptic curves maximal over extensions of fin...   \n",
       "20924  Towards Physically Safe Reinforcement Learning...   \n",
       "20951  Cross-modal Recurrent Models for Weight Object...   \n",
       "20959  Universal features of price formation in finan...   \n",
       "\n",
       "                                                ABSTRACT  Computer Science  \n",
       "0        Predictive models allow subject-specific inf...                 1  \n",
       "15       The recent discovery that the exponent of ma...                 0  \n",
       "18       When investigators seek to estimate causal e...                 0  \n",
       "29       We investigate the density large deviation f...                 0  \n",
       "35       In this work, we establish a full single-let...                 1  \n",
       "...                                                  ...               ...  \n",
       "20904    Photometric stereo is a method for estimatin...                 0  \n",
       "20909    Given an elliptic curve $E$ over a finite fi...                 0  \n",
       "20924    This paper addresses the question of how a p...                 1  \n",
       "20951    We analyse multimodal time-series data corre...                 1  \n",
       "20959    Using a large-scale Deep Learning approach a...                 0  \n",
       "\n",
       "[1000 rows x 3 columns]>"
      ]
     },
     "execution_count": 170,
     "metadata": {},
     "output_type": "execute_result"
    }
   ],
   "execution_count": 170
  },
  {
   "cell_type": "code",
   "metadata": {
    "id": "676DPU1BOPdp",
    "colab_type": "code",
    "colab": {
     "base_uri": "https://localhost:8080/",
     "height": 67
    },
    "outputId": "2e973551-34b4-4976-8993-0bb8a9b42dc6",
    "ExecuteTime": {
     "end_time": "2024-07-10T02:48:15.361714Z",
     "start_time": "2024-07-10T02:48:15.346049Z"
    }
   },
   "source": [
    "# check class distribution\n",
    "df['Computer Science'].value_counts(normalize = True)"
   ],
   "outputs": [
    {
     "data": {
      "text/plain": [
       "Computer Science\n",
       "0    0.584\n",
       "1    0.416\n",
       "Name: proportion, dtype: float64"
      ]
     },
     "execution_count": 171,
     "metadata": {},
     "output_type": "execute_result"
    }
   ],
   "execution_count": 171
  },
  {
   "cell_type": "markdown",
   "metadata": {
    "id": "MKfWnApvOoE7",
    "colab_type": "text"
   },
   "source": [
    "# Split train dataset into train, validation and test sets"
   ]
  },
  {
   "cell_type": "code",
   "metadata": {
    "id": "mfhSPF5jOWb7",
    "colab_type": "code",
    "colab": {},
    "ExecuteTime": {
     "end_time": "2024-07-10T02:48:15.377308Z",
     "start_time": "2024-07-10T02:48:15.361714Z"
    }
   },
   "source": [
    "train_text, temp_text, train_labels, temp_labels = train_test_split(df['ABSTRACT'], df['Computer Science'], \n",
    "                                                                    random_state=2018, \n",
    "                                                                    test_size=0.3, \n",
    "                                                                    stratify=df['Computer Science'])\n",
    "\n",
    "# we will use temp_text and temp_labels to create validation and test set\n",
    "val_text, test_text, val_labels, test_labels = train_test_split(temp_text, temp_labels, \n",
    "                                                                random_state=2018, \n",
    "                                                                test_size=0.5, \n",
    "                                                                stratify=temp_labels)"
   ],
   "outputs": [],
   "execution_count": 172
  },
  {
   "cell_type": "markdown",
   "metadata": {
    "id": "n7hsdLoCO7uB",
    "colab_type": "text"
   },
   "source": [
    "# Import BERT Model and BERT Tokenizer"
   ]
  },
  {
   "cell_type": "code",
   "metadata": {
    "id": "S1kY3gZjO2RE",
    "colab_type": "code",
    "colab": {
     "base_uri": "https://localhost:8080/",
     "height": 163,
     "referenced_widgets": [
      "3a4f591895314d8080cbc27263e99b3a",
      "268dfb3419b24acb875fa9d0a4fe3753",
      "89e35d6c5c2e438ba3a3bcc2e5daa547",
      "589eed5d14434034a5f41ddd23bc236d",
      "7ccda4e26a624457bcf74770602516fc",
      "05749ab77053486c9affb0ed1e9ed4c6",
      "4fc5a2681525401d8e75b6a4d6c1f5b4",
      "7e0918b768cf476fa84851839802e74c",
      "41ebdd850e2e4118bde7d61d196d7508",
      "6034c22cfbfa4af3b66b8b582ad7f510",
      "4cfbd3ed6b40404784464952dde03d1f",
      "149dab03f88d46c69fcb3aef2e3f7bde",
      "3796ead814a7462d9e9f8ee1ee4bafb7",
      "22f537d057b6410b8b44c18e4ae761c8",
      "28f20737806a4dacaa9c490cb11f04ee",
      "6ea18c8fd3fc43b787d2a425b472b008",
      "5aacb6d14f904d70911c5da92ece22e1",
      "e32c3163adfa41e0a98799fb2f9cd6b3",
      "4531fb6fe648452db635431240edf640",
      "a424928e6bc04c46b58c0da45b5ee1c8",
      "839f9de0b3e54c3297e785a68137b589",
      "1d67b1084c6f4f62845222c4d6a72017",
      "fb20a1d6099b46fdbdd722d0fa383a6d",
      "f883e8ea8425446e831b1857b305e43e"
     ]
    },
    "outputId": "9c30fb29-36d7-4225-db0e-50b6f8f113c4",
    "ExecuteTime": {
     "end_time": "2024-07-10T02:48:15.764039Z",
     "start_time": "2024-07-10T02:48:15.377308Z"
    }
   },
   "source": [
    "# import BERT-base pretrained model\n",
    "bert = AutoModel.from_pretrained('bert-base-uncased')\n",
    "\n",
    "# Load the BERT tokenizer\n",
    "tokenizer = BertTokenizerFast.from_pretrained('bert-base-uncased')"
   ],
   "outputs": [],
   "execution_count": 173
  },
  {
   "cell_type": "markdown",
   "metadata": {
    "id": "8wIYaWI_Prg8",
    "colab_type": "text"
   },
   "source": [
    "# Tokenization\n",
    "Here we first decide using the histogram the appropriate max length for our tokkens. As having the max length as tokken length will just slow the training."
   ]
  },
  {
   "cell_type": "code",
   "metadata": {
    "id": "yKwbpeN_PMiu",
    "colab_type": "code",
    "colab": {
     "base_uri": "https://localhost:8080/",
     "height": 281
    },
    "outputId": "c6c67f8f-92bd-4fb5-c6ad-70558cca0d4e",
    "ExecuteTime": {
     "end_time": "2024-07-10T02:48:15.905695Z",
     "start_time": "2024-07-10T02:48:15.764039Z"
    }
   },
   "source": [
    "# get length of all the messages in the train set\n",
    "seq_len = [len(i.split()) for i in train_text]\n",
    "\n",
    "pd.Series(seq_len).hist(bins = 10)"
   ],
   "outputs": [
    {
     "data": {
      "text/plain": [
       "<Axes: >"
      ]
     },
     "execution_count": 174,
     "metadata": {},
     "output_type": "execute_result"
    },
    {
     "data": {
      "text/plain": [
       "<Figure size 640x480 with 1 Axes>"
      ],
      "image/png": "[encoded data removed]"
     },
     "metadata": {},
     "output_type": "display_data"
    }
   ],
   "execution_count": 174
  },
  {
   "cell_type": "code",
   "metadata": {
    "id": "OXcswEIRPvGe",
    "colab_type": "code",
    "colab": {},
    "ExecuteTime": {
     "end_time": "2024-07-10T02:48:15.921276Z",
     "start_time": "2024-07-10T02:48:15.905695Z"
    }
   },
   "source": [
    "max_seq_len = 120"
   ],
   "outputs": [],
   "execution_count": 175
  },
  {
   "cell_type": "code",
   "metadata": {
    "id": "tk5S7DWaP2t6",
    "colab_type": "code",
    "colab": {},
    "ExecuteTime": {
     "end_time": "2024-07-10T02:48:16.140910Z",
     "start_time": "2024-07-10T02:48:15.921276Z"
    }
   },
   "source": [
    "# tokenize and encode sequences in the training set\n",
    "tokens_train = tokenizer.batch_encode_plus(\n",
    "    train_text.tolist(),\n",
    "    max_length = max_seq_len,\n",
    "    padding=True,\n",
    "    truncation=True,\n",
    "    return_token_type_ids=False\n",
    ")\n",
    "\n",
    "# tokenize and encode sequences in the validation set\n",
    "tokens_val = tokenizer.batch_encode_plus(\n",
    "    val_text.tolist(),\n",
    "    max_length = max_seq_len,\n",
    "    padding=True,\n",
    "    truncation=True,\n",
    "    return_token_type_ids=False\n",
    ")\n",
    "\n",
    "# tokenize and encode sequences in the test set\n",
    "tokens_test = tokenizer.batch_encode_plus(\n",
    "    test_text.tolist(),\n",
    "    max_length = max_seq_len,\n",
    "    padding=True,\n",
    "    truncation=True,\n",
    "    return_token_type_ids=False\n",
    ")"
   ],
   "outputs": [],
   "execution_count": 176
  },
  {
   "cell_type": "markdown",
   "metadata": {
    "id": "Wsm8bkRZQTw9",
    "colab_type": "text"
   },
   "source": [
    "# Convert Integer Sequences to Tensors"
   ]
  },
  {
   "cell_type": "code",
   "metadata": {
    "id": "QR-lXwmzQPd6",
    "colab_type": "code",
    "colab": {},
    "ExecuteTime": {
     "end_time": "2024-07-10T02:48:16.172159Z",
     "start_time": "2024-07-10T02:48:16.140910Z"
    }
   },
   "source": [
    "# for train set\n",
    "train_seq = torch.tensor(tokens_train['input_ids'])\n",
    "train_mask = torch.tensor(tokens_train['attention_mask'])\n",
    "train_y = torch.tensor(train_labels.tolist())\n",
    "\n",
    "# for validation set\n",
    "val_seq = torch.tensor(tokens_val['input_ids'])\n",
    "val_mask = torch.tensor(tokens_val['attention_mask'])\n",
    "val_y = torch.tensor(val_labels.tolist())\n",
    "\n",
    "# for test set\n",
    "test_seq = torch.tensor(tokens_test['input_ids'])\n",
    "test_mask = torch.tensor(tokens_test['attention_mask'])\n",
    "test_y = torch.tensor(test_labels.tolist())"
   ],
   "outputs": [],
   "execution_count": 177
  },
  {
   "cell_type": "markdown",
   "metadata": {
    "id": "Ov1cOBlcRLuk",
    "colab_type": "text"
   },
   "source": [
    "# Create DataLoaders"
   ]
  },
  {
   "cell_type": "code",
   "metadata": {
    "id": "qUy9JKFYQYLp",
    "colab_type": "code",
    "colab": {},
    "ExecuteTime": {
     "end_time": "2024-07-10T02:48:16.188185Z",
     "start_time": "2024-07-10T02:48:16.172159Z"
    }
   },
   "source": [
    "from torch.utils.data import TensorDataset, DataLoader, RandomSampler, SequentialSampler\n",
    "\n",
    "#define a batch size\n",
    "batch_size = 32\n",
    "\n",
    "# wrap tensors\n",
    "train_data = TensorDataset(train_seq, train_mask, train_y)\n",
    "\n",
    "# sampler for sampling the data during training\n",
    "train_sampler = RandomSampler(train_data)\n",
    "\n",
    "# dataLoader for train set\n",
    "train_dataloader = DataLoader(train_data, sampler=train_sampler, batch_size=batch_size)\n",
    "\n",
    "# wrap tensors\n",
    "val_data = TensorDataset(val_seq, val_mask, val_y)\n",
    "\n",
    "# sampler for sampling the data during training\n",
    "val_sampler = SequentialSampler(val_data)\n",
    "\n",
    "# dataLoader for validation set\n",
    "val_dataloader = DataLoader(val_data, sampler = val_sampler, batch_size=batch_size)"
   ],
   "outputs": [],
   "execution_count": 178
  },
  {
   "cell_type": "markdown",
   "metadata": {
    "id": "K2HZc5ZYRV28",
    "colab_type": "text"
   },
   "source": [
    "# Freeze BERT Parameters"
   ]
  },
  {
   "cell_type": "code",
   "metadata": {
    "id": "wHZ0MC00RQA_",
    "colab_type": "code",
    "colab": {},
    "ExecuteTime": {
     "end_time": "2024-07-10T02:48:16.203822Z",
     "start_time": "2024-07-10T02:48:16.188185Z"
    }
   },
   "source": [
    "# freeze all the parameters\n",
    "for param in bert.parameters():\n",
    "    param.requires_grad = False"
   ],
   "outputs": [],
   "execution_count": 179
  },
  {
   "cell_type": "markdown",
   "metadata": {
    "id": "s7ahGBUWRi3X",
    "colab_type": "text"
   },
   "source": [
    "# Define Model Architecture"
   ]
  },
  {
   "cell_type": "code",
   "metadata": {
    "id": "b3iEtGyYRd0A",
    "colab_type": "code",
    "colab": {},
    "ExecuteTime": {
     "end_time": "2024-07-10T02:48:16.218868Z",
     "start_time": "2024-07-10T02:48:16.203822Z"
    }
   },
   "source": [
    "# Define the BERT-based model architecture\n",
    "class BERT_Arch(nn.Module):\n",
    "    def __init__(self, bert):\n",
    "        super(BERT_Arch, self).__init__()\n",
    "        self.bert = bert\n",
    "        \n",
    "        # dropout layer\n",
    "        self.dropout = nn.Dropout(0.1)\n",
    "        \n",
    "        # relu activation function\n",
    "        self.relu = nn.ReLU()\n",
    "\n",
    "        # dense layer 1\n",
    "        self.fc1 = nn.Linear(768, 512)\n",
    "        \n",
    "        # dense layer 2 (Output layer)\n",
    "        self.fc2 = nn.Linear(512, 2)\n",
    "\n",
    "        # softmax activation function\n",
    "        self.softmax = nn.LogSoftmax(dim=1)\n",
    "\n",
    "    # define the forward pass\n",
    "    def forward(self, sent_id, mask):\n",
    "        # pass the inputs to the model\n",
    "        outputs = self.bert(sent_id, attention_mask=mask, return_dict=False)\n",
    "        cls_hs = outputs[1]  # Extract the pooled output (cls token)\n",
    "        \n",
    "        x = self.fc1(cls_hs)\n",
    "        x = self.relu(x)\n",
    "        x = self.dropout(x)\n",
    "        \n",
    "        # output layer\n",
    "        x = self.fc2(x)\n",
    "        \n",
    "        # apply softmax activation\n",
    "        x = self.softmax(x)\n",
    "\n",
    "        return x"
   ],
   "outputs": [],
   "execution_count": 180
  },
  {
   "cell_type": "code",
   "metadata": {
    "id": "cBAJJVuJRliv",
    "colab_type": "code",
    "colab": {},
    "ExecuteTime": {
     "end_time": "2024-07-10T02:48:16.611813Z",
     "start_time": "2024-07-10T02:48:16.220045Z"
    }
   },
   "source": [
    "# Load the pre-trained BERT model and tokenizer\n",
    "bert = AutoModel.from_pretrained('bert-base-uncased')\n",
    "tokenizer = BertTokenizerFast.from_pretrained('bert-base-uncased')\n",
    "\n",
    "# pass the pre-trained BERT to our define architecture\n",
    "model = BERT_Arch(bert)\n",
    "\n",
    "# push the model to GPU\n",
    "model = model.to(device)"
   ],
   "outputs": [],
   "execution_count": 181
  },
  {
   "cell_type": "code",
   "metadata": {
    "id": "taXS0IilRn9J",
    "colab_type": "code",
    "colab": {},
    "ExecuteTime": {
     "end_time": "2024-07-10T02:48:16.627445Z",
     "start_time": "2024-07-10T02:48:16.611813Z"
    }
   },
   "source": [
    "# optimizer from hugging face transformers\n",
    "from torch.optim import AdamW\n",
    "\n",
    "# define the optimizer\n",
    "optimizer = AdamW(model.parameters(), lr = 1e-3)"
   ],
   "outputs": [],
   "execution_count": 182
  },
  {
   "cell_type": "markdown",
   "metadata": {
    "id": "j9CDpoMQR_rK",
    "colab_type": "text"
   },
   "source": [
    "# Find Class Weights\n",
    "<p> As we saw earlier that there is an unbalance between the classes of positive and negative labels. Lets handdel that using sklearn. This will change the cost for less found class more in comparison to more abundant one's thus balancing the training."
   ]
  },
  {
   "cell_type": "code",
   "metadata": {
    "id": "izY5xH5eR7Ur",
    "colab_type": "code",
    "colab": {
     "base_uri": "https://localhost:8080/",
     "height": 33
    },
    "outputId": "e1e60240-ecf1-48d0-b4f8-34af026e1291",
    "ExecuteTime": {
     "end_time": "2024-07-10T02:48:16.643068Z",
     "start_time": "2024-07-10T02:48:16.627445Z"
    }
   },
   "source": [
    "from sklearn.utils.class_weight import compute_class_weight\n",
    "import numpy as np\n",
    "\n",
    "# Compute the class weights\n",
    "class_wts = compute_class_weight(class_weight='balanced', classes=np.unique(train_labels), y=train_labels)\n",
    "\n",
    "print(class_wts)\n"
   ],
   "outputs": [
    {
     "name": "stdout",
     "output_type": "stream",
     "text": [
      "[0.85574572 1.20274914]\n"
     ]
    }
   ],
   "execution_count": 183
  },
  {
   "cell_type": "code",
   "metadata": {
    "id": "r1WvfY2vSGKi",
    "colab_type": "code",
    "colab": {},
    "ExecuteTime": {
     "end_time": "2024-07-10T02:48:16.658693Z",
     "start_time": "2024-07-10T02:48:16.643068Z"
    }
   },
   "source": [
    "# convert class weights to tensor\n",
    "weights= torch.tensor(class_wts,dtype=torch.float)\n",
    "weights = weights.to(device)\n",
    "\n",
    "# loss function\n",
    "cross_entropy  = nn.NLLLoss(weight=weights) \n",
    "\n",
    "# number of training epochs, at start i tried 10 but saw that val loss was still decresing so changed it up to 25\n",
    "epochs = 25"
   ],
   "outputs": [],
   "execution_count": 184
  },
  {
   "cell_type": "markdown",
   "metadata": {
    "id": "My4CA0qaShLq",
    "colab_type": "text"
   },
   "source": [
    "# Fine-Tune BERT\n",
    "let's do the main things now!!"
   ]
  },
  {
   "cell_type": "code",
   "metadata": {
    "id": "rskLk8R_SahS",
    "colab_type": "code",
    "colab": {},
    "ExecuteTime": {
     "end_time": "2024-07-10T02:48:16.674319Z",
     "start_time": "2024-07-10T02:48:16.658693Z"
    }
   },
   "source": [
    "# function to train the model\n",
    "def train():\n",
    "  \n",
    "  model.train()\n",
    "\n",
    "  total_loss, total_accuracy = 0, 0\n",
    "  \n",
    "  # empty list to save model predictions\n",
    "  total_preds=[]\n",
    "  \n",
    "  # iterate over batches\n",
    "  for step,batch in enumerate(train_dataloader):\n",
    "    \n",
    "    # progress update after every 50 batches.\n",
    "    if step % 50 == 0 and not step == 0:\n",
    "      print('  Batch {:>5,}  of  {:>5,}.'.format(step, len(train_dataloader)))\n",
    "\n",
    "    # push the batch to gpu\n",
    "    batch = [r.to(device) for r in batch]\n",
    " \n",
    "    sent_id, mask, labels = batch\n",
    "\n",
    "    # clear previously calculated gradients \n",
    "    model.zero_grad()        \n",
    "\n",
    "    # get model predictions for the current batch\n",
    "    preds = model(sent_id, mask)\n",
    "\n",
    "    # compute the loss between actual and predicted values\n",
    "    loss = cross_entropy(preds, labels)\n",
    "\n",
    "    # add on to the total loss\n",
    "    total_loss = total_loss + loss.item()\n",
    "\n",
    "    # backward pass to calculate the gradients\n",
    "    loss.backward()\n",
    "\n",
    "    # clip the the gradients to 1.0. It helps in preventing the exploding gradient problem\n",
    "    torch.nn.utils.clip_grad_norm_(model.parameters(), 1.0)\n",
    "\n",
    "    # update parameters\n",
    "    optimizer.step()\n",
    "\n",
    "    # model predictions are stored on GPU. So, push it to CPU\n",
    "    preds=preds.detach().cpu().numpy()\n",
    "\n",
    "    # append the model predictions\n",
    "    total_preds.append(preds)\n",
    "\n",
    "  # compute the training loss of the epoch\n",
    "  avg_loss = total_loss / len(train_dataloader)\n",
    "  \n",
    "  # predictions are in the form of (no. of batches, size of batch, no. of classes).\n",
    "  # reshape the predictions in form of (number of samples, no. of classes)\n",
    "  total_preds  = np.concatenate(total_preds, axis=0)\n",
    "\n",
    "  #returns the loss and predictions\n",
    "  return avg_loss, total_preds"
   ],
   "outputs": [],
   "execution_count": 185
  },
  {
   "cell_type": "code",
   "metadata": {
    "id": "yGXovFDlSxB5",
    "colab_type": "code",
    "colab": {},
    "ExecuteTime": {
     "end_time": "2024-07-10T02:48:16.690346Z",
     "start_time": "2024-07-10T02:48:16.674319Z"
    }
   },
   "source": [
    "# function for evaluating the model\n",
    "def evaluate():\n",
    "  \n",
    "  print(\"\\nEvaluating...\")\n",
    "  \n",
    "  # deactivate dropout layers\n",
    "  model.eval()\n",
    "\n",
    "  total_loss, total_accuracy = 0, 0\n",
    "  \n",
    "  # empty list to save the model predictions\n",
    "  total_preds = []\n",
    "\n",
    "  # iterate over batches\n",
    "  for step,batch in enumerate(val_dataloader):\n",
    "    \n",
    "    # Progress update every 50 batches.\n",
    "    if step % 50 == 0 and not step == 0:\n",
    "      \n",
    "      # # Calculate elapsed time in minutes.\n",
    "      # elapsed = format_time(time.time() - t0)\n",
    "            \n",
    "      # Report progress.\n",
    "      print('  Batch {:>5,}  of  {:>5,}.'.format(step, len(val_dataloader)))\n",
    "\n",
    "    # push the batch to gpu\n",
    "    batch = [t.to(device) for t in batch]\n",
    "\n",
    "    sent_id, mask, labels = batch\n",
    "\n",
    "    # deactivate autograd\n",
    "    with torch.no_grad():\n",
    "      \n",
    "      # model predictions\n",
    "      preds = model(sent_id, mask)\n",
    "\n",
    "      # compute the validation loss between actual and predicted values\n",
    "      loss = cross_entropy(preds,labels)\n",
    "\n",
    "      total_loss = total_loss + loss.item()\n",
    "\n",
    "      preds = preds.detach().cpu().numpy()\n",
    "\n",
    "      total_preds.append(preds)\n",
    "\n",
    "  # compute the validation loss of the epoch\n",
    "  avg_loss = total_loss / len(val_dataloader) \n",
    "\n",
    "  # reshape the predictions in form of (number of samples, no. of classes)\n",
    "  total_preds  = np.concatenate(total_preds, axis=0)\n",
    "\n",
    "  return avg_loss, total_preds"
   ],
   "outputs": [],
   "execution_count": 186
  },
  {
   "cell_type": "markdown",
   "metadata": {
    "id": "9KZEgxRRTLXG",
    "colab_type": "text"
   },
   "source": [
    "# Start Model Training"
   ]
  },
  {
   "cell_type": "code",
   "metadata": {
    "id": "k1USGTntS3TS",
    "colab_type": "code",
    "colab": {
     "base_uri": "https://localhost:8080/",
     "height": 1000
    },
    "outputId": "cc3317df-b041-4793-e3e0-bcf84d13bd84",
    "jupyter": {
     "is_executing": true
    },
    "ExecuteTime": {
     "start_time": "2024-07-10T02:48:16.690346Z"
    }
   },
   "source": [
    "# set initial loss to infinite\n",
    "best_valid_loss = float('inf')\n",
    "\n",
    "# empty lists to store training and validation loss of each epoch\n",
    "train_losses = []\n",
    "valid_losses = []\n",
    "\n",
    "# for each epoch\n",
    "for epoch in range(epochs):\n",
    "     \n",
    "    print('\\n Epoch {:} / {:}'.format(epoch + 1, epochs))\n",
    "    \n",
    "    # train model\n",
    "    train_loss, _ = train()\n",
    "    \n",
    "    # evaluate model\n",
    "    valid_loss, _ = evaluate()\n",
    "    \n",
    "    # save the best model\n",
    "    if valid_loss < best_valid_loss:\n",
    "        best_valid_loss = valid_loss\n",
    "        torch.save(model.state_dict(), 'saved_weights.pt')\n",
    "    \n",
    "    # append training and validation loss\n",
    "    train_losses.append(train_loss)\n",
    "    valid_losses.append(valid_loss)\n",
    "    \n",
    "    print(f'\\nTraining Loss: {train_loss:.3f}')\n",
    "    print(f'Validation Loss: {valid_loss:.3f}')\n"
   ],
   "outputs": [
    {
     "name": "stdout",
     "output_type": "stream",
     "text": [
      "\n",
      " Epoch 1 / 25\n"
     ]
    }
   ],
   "execution_count": null
  },
  {
   "cell_type": "markdown",
   "metadata": {
    "id": "_yrhUc9kTI5a",
    "colab_type": "text"
   },
   "source": [
    "# Load Saved Model"
   ]
  },
  {
   "cell_type": "code",
   "metadata": {
    "id": "OacxUyizS8d1",
    "colab_type": "code",
    "colab": {
     "base_uri": "https://localhost:8080/",
     "height": 33
    },
    "outputId": "934c763b-150d-4e5c-d24e-592275a87e19",
    "jupyter": {
     "is_executing": true
    }
   },
   "source": [
    "#load weights of best model\n",
    "path = 'saved_weights.pt'\n",
    "model.load_state_dict(torch.load(path))"
   ],
   "outputs": [],
   "execution_count": null
  },
  {
   "cell_type": "markdown",
   "metadata": {
    "id": "x4SVftkkTZXA",
    "colab_type": "text"
   },
   "source": [
    "# Get Predictions for Test Data"
   ]
  },
  {
   "cell_type": "code",
   "metadata": {
    "id": "NZl0SZmFTRQA",
    "colab_type": "code",
    "colab": {},
    "jupyter": {
     "is_executing": true
    }
   },
   "source": [
    "# get predictions for test data\n",
    "with torch.no_grad():\n",
    "  preds = model(test_seq.to(device), test_mask.to(device))\n",
    "  preds = preds.detach().cpu().numpy()"
   ],
   "outputs": [],
   "execution_count": null
  },
  {
   "cell_type": "code",
   "metadata": {
    "id": "Ms1ObHZxTYSI",
    "colab_type": "code",
    "colab": {
     "base_uri": "https://localhost:8080/",
     "height": 167
    },
    "outputId": "beb020a2-4d8f-4c0f-ecad-dd08bb19b4f5",
    "jupyter": {
     "is_executing": true
    }
   },
   "source": [
    "# model's performance\n",
    "preds = np.argmax(preds, axis = 1)\n",
    "print(classification_report(test_y, preds))"
   ],
   "outputs": [],
   "execution_count": null
  },
  {
   "cell_type": "code",
   "metadata": {
    "id": "YqzLS7rHTp4T",
    "colab_type": "code",
    "colab": {
     "base_uri": "https://localhost:8080/",
     "height": 137
    },
    "outputId": "4a4ead91-e05b-4f7b-baf2-377bef77e316",
    "jupyter": {
     "is_executing": true
    }
   },
   "source": [
    "# confusion matrix\n",
    "pd.crosstab(test_y, preds)"
   ],
   "outputs": [],
   "execution_count": null
  },
  {
   "cell_type": "markdown",
   "metadata": {
    "id": "EsooeShyA8g-",
    "colab_type": "text"
   },
   "source": [
    "#Conclusion\n",
    "<p>So here we can see that even the dataset of 1000 examples was able to achieve a f1 score of 0.85. This is the power of transfer learning possible via transformer architecture. We can also check at exactly what size of train set the score reaches ~0.9 by trying out a few numbers."
   ]
  }
 ]
}
